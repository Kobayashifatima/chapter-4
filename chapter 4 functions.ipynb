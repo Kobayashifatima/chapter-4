{
 "cells": [
  {
   "cell_type": "markdown",
   "id": "ec92c665",
   "metadata": {},
   "source": [
    "# chapter 4"
   ]
  },
  {
   "cell_type": "markdown",
   "id": "92dcc501",
   "metadata": {},
   "source": [
    "functions"
   ]
  },
  {
   "cell_type": "code",
   "execution_count": 1,
   "id": "016425cb",
   "metadata": {},
   "outputs": [
    {
     "name": "stdout",
     "output_type": "stream",
     "text": [
      "Sum: 8\n",
      "Factorial of 5: 120\n"
     ]
    }
   ],
   "source": [
    "# Define a simple function to add two numbers\n",
    "def add_numbers(a, b):\n",
    "    result = a + b\n",
    "    return result\n",
    "\n",
    "# Use the function to add two numbers\n",
    "sum_result = add_numbers(5, 3)\n",
    "print(\"Sum:\", sum_result)\n",
    "\n",
    "# Define a function to find the factorial of a number using recursion\n",
    "def factorial(n):\n",
    "    if n == 0:\n",
    "        return 1\n",
    "    else:\n",
    "        return n * factorial(n - 1)\n",
    "\n",
    "# Use the factorial function\n",
    "factorial_result = factorial(5)\n",
    "print(\"Factorial of 5:\", factorial_result)\n"
   ]
  },
  {
   "cell_type": "code",
   "execution_count": 2,
   "id": "03a7074d",
   "metadata": {},
   "outputs": [
    {
     "name": "stdout",
     "output_type": "stream",
     "text": [
      "The maximum value is: 91\n"
     ]
    }
   ],
   "source": [
    "# Define a list of numbers\n",
    "numbers = [42, 17, 8, 23, 56, 91, 4, 67]\n",
    "\n",
    "# Use the max function to find the maximum value in the list\n",
    "max_value = max(numbers)\n",
    "\n",
    "# Print the maximum value\n",
    "print(\"The maximum value is:\", max_value)\n"
   ]
  },
  {
   "cell_type": "code",
   "execution_count": 3,
   "id": "9bffd309",
   "metadata": {},
   "outputs": [
    {
     "name": "stdout",
     "output_type": "stream",
     "text": [
      "String to Integer Conversion: 42\n",
      "Integer to Float Conversion: 7.0\n",
      "Float to String Conversion: 3.14\n",
      "Implicit Type Conversion: 7.5\n",
      "Data Type of result: <class 'float'>\n"
     ]
    }
   ],
   "source": [
    "# Explicit type conversion (Type Casting)\n",
    "# Convert a string to an integer\n",
    "string_num = \"42\"\n",
    "integer_num = int(string_num)\n",
    "print(\"String to Integer Conversion:\", integer_num)\n",
    "\n",
    "# Convert an integer to a float\n",
    "int_value = 7\n",
    "float_value = float(int_value)\n",
    "print(\"Integer to Float Conversion:\", float_value)\n",
    "\n",
    "# Convert a float to a string\n",
    "float_num = 3.14\n",
    "string_num = str(float_num)\n",
    "print(\"Float to String Conversion:\", string_num)\n",
    "\n",
    "# Implicit type conversion (Type Coercion)\n",
    "# Perform operations with different types\n",
    "int_num = 5\n",
    "float_num = 2.5\n",
    "result = int_num + float_num\n",
    "print(\"Implicit Type Conversion:\", result)\n",
    "\n",
    "# Using type() function to check data types\n",
    "print(\"Data Type of result:\", type(result))\n"
   ]
  },
  {
   "cell_type": "code",
   "execution_count": 5,
   "id": "2fe7aa01",
   "metadata": {},
   "outputs": [
    {
     "name": "stdout",
     "output_type": "stream",
     "text": [
      "Original data types:\n",
      "num: <class 'int'>\n",
      "float_num: <class 'float'>\n",
      "\n",
      "Data types after string conversion:\n",
      "num_str: <class 'str'>\n",
      "float_num_str: <class 'str'>\n"
     ]
    }
   ],
   "source": [
    "# Convert other data types to strings\n",
    "num = 42\n",
    "float_num = 3.14\n",
    "\n",
    "# Convert integer and float to strings\n",
    "num_str = str(num)\n",
    "float_num_str = str(float_num)\n",
    "\n",
    "# Check the data types after conversion\n",
    "print(\"Original data types:\")\n",
    "print(\"num:\", type(num))\n",
    "print(\"float_num:\", type(float_num))\n",
    "\n",
    "print(\"\\nData types after string conversion:\")\n",
    "print(\"num_str:\", type(num_str))\n",
    "print(\"float_num_str:\", type(float_num_str))\n"
   ]
  },
  {
   "cell_type": "code",
   "execution_count": 6,
   "id": "aa798aec",
   "metadata": {},
   "outputs": [
    {
     "name": "stdout",
     "output_type": "stream",
     "text": [
      "The area of the rectangle is: 50\n"
     ]
    }
   ],
   "source": [
    "# Define a function to calculate the area of a rectangle\n",
    "def calculate_rectangle_area(length, width):\n",
    "    area = length * width\n",
    "    return area\n",
    "\n",
    "# Input values\n",
    "length = 10\n",
    "width = 5\n",
    "\n",
    "# Call the function and store the result\n",
    "area_of_rectangle = calculate_rectangle_area(length, width)\n",
    "\n",
    "# Print the result\n",
    "print(\"The area of the rectangle is:\", area_of_rectangle)\n"
   ]
  },
  {
   "cell_type": "code",
   "execution_count": 7,
   "id": "a211e7e7",
   "metadata": {},
   "outputs": [
    {
     "name": "stdout",
     "output_type": "stream",
     "text": [
      "The sum of 10 and 5 is: 15\n"
     ]
    }
   ],
   "source": [
    "# Define a function that takes two numbers as arguments and returns their sum\n",
    "def add_numbers(a, b):\n",
    "    result = a + b\n",
    "    return result\n",
    "\n",
    "# Define input values\n",
    "num1 = 10\n",
    "num2 = 5\n",
    "\n",
    "# Call the function with the input values and store the result\n",
    "sum_result = add_numbers(num1, num2)\n",
    "\n",
    "# Print the result\n",
    "print(\"The sum of\", num1, \"and\", num2, \"is:\", sum_result)\n"
   ]
  },
  {
   "cell_type": "markdown",
   "id": "15e26d70",
   "metadata": {},
   "source": [
    "# excercise "
   ]
  },
  {
   "cell_type": "code",
   "execution_count": 9,
   "id": "8128f45c",
   "metadata": {},
   "outputs": [
    {
     "name": "stdout",
     "output_type": "stream",
     "text": [
      "Enter the number of hours worked: 45\n",
      "Enter the hourly rate: 10\n",
      "Total pay: $ 475.0\n"
     ]
    }
   ],
   "source": [
    "# Define a function to calculate the pay with time and a half for overtime\n",
    "def computepay(hours, rate):\n",
    "    if hours <= 40:\n",
    "        pay = hours * rate  # Regular pay\n",
    "    else:\n",
    "        regular_hours = 40\n",
    "        overtime_hours = hours - 40\n",
    "        pay = (regular_hours * rate) + (overtime_hours * 1.5 * rate)  # Regular + Overtime pay\n",
    "    return pay\n",
    "\n",
    "# Input values\n",
    "hours_worked = float(input(\"Enter the number of hours worked: \"))\n",
    "hourly_rate = float(input(\"Enter the hourly rate: \"))\n",
    "\n",
    "# Calculate the pay using the computepay function\n",
    "total_pay = computepay(hours_worked, hourly_rate)\n",
    "\n",
    "# Print the result\n",
    "print(\"Total pay: $\", total_pay)\n"
   ]
  },
  {
   "cell_type": "code",
   "execution_count": null,
   "id": "3af7644b",
   "metadata": {},
   "outputs": [],
   "source": []
  }
 ],
 "metadata": {
  "kernelspec": {
   "display_name": "Python 3 (ipykernel)",
   "language": "python",
   "name": "python3"
  },
  "language_info": {
   "codemirror_mode": {
    "name": "ipython",
    "version": 3
   },
   "file_extension": ".py",
   "mimetype": "text/x-python",
   "name": "python",
   "nbconvert_exporter": "python",
   "pygments_lexer": "ipython3",
   "version": "3.11.4"
  }
 },
 "nbformat": 4,
 "nbformat_minor": 5
}
